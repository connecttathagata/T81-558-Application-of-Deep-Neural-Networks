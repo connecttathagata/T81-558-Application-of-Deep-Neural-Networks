{
 "cells": [
  {
   "cell_type": "markdown",
   "metadata": {},
   "source": [
    "# T81-558: Applications of Deep Neural Networks\n",
    "**Final Project: Tathagata Banerjee**\n",
    "\n"
   ]
  },
  {
   "cell_type": "markdown",
   "metadata": {},
   "source": [
    "## Problem and DataSet\n",
    "\n",
    "  For the final project I want to do an independent assignment. The dataset that I am using is the Glass Identification Data Set from the University of California Irvine, Machine Learning Repository https://archive.ics.uci.edu/ml/datasets/Glass+Identification. For this particular project I use the formatted dataset in Dr. Heaton's Github page.\n",
    "  \n",
    "  The purpose of this problem is to classify the type of glass based on the chemical composition. There are nine attributes(excluding the id) and each of these represents the weight percentage in the corresponding oxide. We want to perform **Classification** based on these attributes. There are seven possible classes of the glass that we are trying to classify into. The field we are interested in for prediction is **'type'**.\n",
    "  \n",
    "  For this particular dataset, there is **No Missing Data**.\n",
    "  \n",
    " \n",
    "## Pre-Processing Step\n",
    "\n",
    "First I dropped the 'id' column and then shuffled the rows.\n",
    "\n",
    "Since all the attributes are **numeric and continuous** ,I encoded all the attribute columns as **z-scores**. \n",
    "\n",
    "\n",
    "## Creating a Neural Network Model\n",
    "\n",
    "I used 5-Fold Cross-Validation for this project. For the system architecture I had two hidden layers with 50 and 25 neurons simultaneously.For the hidden layers the activation function was 'relu'. For the output layer the activation was 'softmax', since this is a Classification problem.\n",
    "\n",
    "## Evaluation Metric\n",
    "\n",
    "For evaluating the performance, we use **Classification Accuracy** as our metric.\n",
    "\n",
    "$ accuracy = \\frac{\\textit{#} \\ correct}{N} $\n",
    "Where $N$ is the size of the evaluted set (training or validation).\n",
    "\n",
    "I calculate the **Percentage Accuracy** for this model and we get 100% accuracy.\n",
    "\n",
    "## Graphic Evaluation\n",
    "\n",
    "I use **Confusion Matrix** for Graphic Evaluation.\n",
    "\n",
    "## Final Comments\n",
    "\n",
    "I performed Classification using a neural network. I tried to classify the Type of Glass depending on the Chemical composition. I managed to achieve extremely good accuracy.\n",
    "\n",
    "This dataset was straightforward and easy to work with. The only confusion I had is deciding on the optimal value of hyperparameters(which I tried manually).\n",
    "\n",
    "\n"
   ]
  },
  {
   "cell_type": "code",
   "execution_count": 3,
   "metadata": {
    "collapsed": true
   },
   "outputs": [],
   "source": [
    "from sklearn import preprocessing\n",
    "import matplotlib.pyplot as plt\n",
    "import numpy as np\n",
    "import pandas as pd\n",
    "import shutil\n",
    "import os\n",
    "import requests\n",
    "import base64\n",
    "\n",
    "\n",
    "# Encode text values to dummy variables(i.e. [1,0,0],[0,1,0],[0,0,1] for red,green,blue)\n",
    "def encode_text_dummy(df, name):\n",
    "    dummies = pd.get_dummies(df[name])\n",
    "    for x in dummies.columns:\n",
    "        dummy_name = \"{}-{}\".format(name, x)\n",
    "        df[dummy_name] = dummies[x]\n",
    "    df.drop(name, axis=1, inplace=True)\n",
    "\n",
    "\n",
    "# Encode text values to a single dummy variable.  The new columns (which do not replace the old) will have a 1\n",
    "# at every location where the original column (name) matches each of the target_values.  One column is added for\n",
    "# each target value.\n",
    "def encode_text_single_dummy(df, name, target_values):\n",
    "    for tv in target_values:\n",
    "        l = list(df[name].astype(str))\n",
    "        l = [1 if str(x) == str(tv) else 0 for x in l]\n",
    "        name2 = \"{}-{}\".format(name, tv)\n",
    "        df[name2] = l\n",
    "\n",
    "\n",
    "# Encode text values to indexes(i.e. [1],[2],[3] for red,green,blue).\n",
    "def encode_text_index(df, name):\n",
    "    le = preprocessing.LabelEncoder()\n",
    "    df[name] = le.fit_transform(df[name])\n",
    "    return le.classes_\n",
    "\n",
    "\n",
    "# Encode a numeric column as zscores\n",
    "def encode_numeric_zscore(df, name, mean=None, sd=None):\n",
    "    if mean is None:\n",
    "        mean = df[name].mean()\n",
    "\n",
    "    if sd is None:\n",
    "        sd = df[name].std()\n",
    "\n",
    "    df[name] = (df[name] - mean) / sd\n",
    "\n",
    "\n",
    "# Convert all missing values in the specified column to the median\n",
    "def missing_median(df, name):\n",
    "    med = df[name].median()\n",
    "    df[name] = df[name].fillna(med)\n",
    "\n",
    "\n",
    "# Convert all missing values in the specified column to the default\n",
    "def missing_default(df, name, default_value):\n",
    "    df[name] = df[name].fillna(default_value)\n",
    "\n",
    "\n",
    "# Convert a Pandas dataframe to the x,y inputs that TensorFlow needs\n",
    "def to_xy(df, target):\n",
    "    result = []\n",
    "    for x in df.columns:\n",
    "        if x != target:\n",
    "            result.append(x)\n",
    "    # find out the type of the target column.  Is it really this hard? :(\n",
    "    target_type = df[target].dtypes\n",
    "    target_type = target_type[0] if hasattr(target_type, '__iter__') else target_type\n",
    "    # Encode to int for classification, float otherwise. TensorFlow likes 32 bits.\n",
    "    if target_type in (np.int64, np.int32):\n",
    "        # Classification\n",
    "        dummies = pd.get_dummies(df[target])\n",
    "        return df.as_matrix(result).astype(np.float32), dummies.as_matrix().astype(np.float32)\n",
    "    else:\n",
    "        # Regression\n",
    "        return df.as_matrix(result).astype(np.float32), df.as_matrix([target]).astype(np.float32)\n",
    "\n",
    "# Nicely formatted time string\n",
    "def hms_string(sec_elapsed):\n",
    "    h = int(sec_elapsed / (60 * 60))\n",
    "    m = int((sec_elapsed % (60 * 60)) / 60)\n",
    "    s = sec_elapsed % 60\n",
    "    return \"{}:{:>02}:{:>05.2f}\".format(h, m, s)\n",
    "\n",
    "\n",
    "# Regression chart.\n",
    "def chart_regression(pred,y,sort=True):\n",
    "    t = pd.DataFrame({'pred' : pred, 'y' : y.flatten()})\n",
    "    if sort:\n",
    "        t.sort_values(by=['y'],inplace=True)\n",
    "    a = plt.plot(t['y'].tolist(),label='expected')\n",
    "    b = plt.plot(t['pred'].tolist(),label='prediction')\n",
    "    plt.ylabel('output')\n",
    "    plt.legend()\n",
    "    plt.show()\n",
    "\n",
    "# Remove all rows where the specified column is +/- sd standard deviations\n",
    "def remove_outliers(df, name, sd):\n",
    "    drop_rows = df.index[(np.abs(df[name] - df[name].mean()) >= (sd * df[name].std()))]\n",
    "    df.drop(drop_rows, axis=0, inplace=True)\n",
    "\n",
    "\n",
    "# Encode a column to a range between normalized_low and normalized_high.\n",
    "def encode_numeric_range(df, name, normalized_low=-1, normalized_high=1,\n",
    "                         data_low=None, data_high=None):\n",
    "    if data_low is None:\n",
    "        data_low = min(df[name])\n",
    "        data_high = max(df[name])\n",
    "\n",
    "    df[name] = ((df[name] - data_low) / (data_high - data_low)) \\\n",
    "               * (normalized_high - normalized_low) + normalized_low\n",
    "        "
   ]
  },
  {
   "cell_type": "markdown",
   "metadata": {},
   "source": [
    "## Pre-Processing Step\n",
    "\n",
    "First I dropped the 'id' column and then shuffled the rows.\n",
    "\n",
    "Since all the attributes are **numeric and continuous** ,I encoded all the attribute columns as **z-scores**. "
   ]
  },
  {
   "cell_type": "code",
   "execution_count": 4,
   "metadata": {},
   "outputs": [
    {
     "name": "stderr",
     "output_type": "stream",
     "text": [
      "Using TensorFlow backend.\n",
      "/Users/tbanerjee/anaconda3/lib/python3.6/importlib/_bootstrap.py:219: RuntimeWarning: compiletime version 3.5 of module 'tensorflow.python.framework.fast_tensor_util' does not match runtime version 3.6\n",
      "  return f(*args, **kwds)\n"
     ]
    }
   ],
   "source": [
    "import os\n",
    "import pandas as pd\n",
    "from scipy.stats import zscore\n",
    "from keras.models import Sequential\n",
    "from keras.layers.core import Dense, Activation, Dropout\n",
    "import pandas as pd\n",
    "import io\n",
    "import requests\n",
    "import numpy as np\n",
    "from sklearn import metrics\n",
    "from sklearn.model_selection import KFold\n",
    "from keras.callbacks import EarlyStopping\n",
    "from keras.callbacks import ModelCheckpoint\n",
    "\n",
    "path =\"/Users/tbanerjee/Documents/courses/DeepLearning/DLUPDATED/t81_558_deep_learning-master/data/\"\n",
    "filename_read = os.path.join(path,\"glass.csv\")\n",
    "df = pd.read_csv(filename_read)\n",
    "\n",
    "#Shuffling the dataset \n",
    "\n",
    "np.random.seed(42) \n",
    "df = df.reindex(np.random.permutation(df.index))\n",
    "df.reset_index(inplace=True, drop=True)\n",
    "\n",
    "# Encode the feature vector\n",
    "\n",
    "df.drop('id',1,inplace=True)\n",
    "species = encode_text_index(df,\"type\")\n",
    "\n",
    "encode_numeric_zscore(df, 'ri', mean=None, sd=None)\n",
    "encode_numeric_zscore(df, 'na', mean=None, sd=None)\n",
    "encode_numeric_zscore(df, 'mg', mean=None, sd=None)\n",
    "encode_numeric_zscore(df, 'al', mean=None, sd=None)\n",
    "encode_numeric_zscore(df, 'si', mean=None, sd=None)\n",
    "encode_numeric_zscore(df, 'k', mean=None, sd=None)\n",
    "encode_numeric_zscore(df, 'ca', mean=None, sd=None)\n",
    "encode_numeric_zscore(df, 'ba', mean=None, sd=None)\n",
    "encode_numeric_zscore(df, 'fe', mean=None, sd=None)\n",
    "\n",
    "x,y = to_xy(df,\"type\")"
   ]
  },
  {
   "cell_type": "markdown",
   "metadata": {},
   "source": [
    "## Creating a Neural Network Model\n",
    "\n",
    "I used 5-Fold Cross-Validation for this project. For the system architecture I had two hidden layers with 50 and 25 neurons simultaneously.For the hidden layers the activation function was 'relu'. For the output layer the activation was 'softmax', since this is a Classification problem."
   ]
  },
  {
   "cell_type": "code",
   "execution_count": 5,
   "metadata": {},
   "outputs": [
    {
     "name": "stdout",
     "output_type": "stream",
     "text": [
      "Fold #1\n",
      "Epoch 00711: early stopping\n",
      "Fold #2\n",
      "Epoch 00986: early stopping\n",
      "Fold #3\n",
      "Epoch 00890: early stopping\n",
      "Fold #4\n",
      "Epoch 00813: early stopping\n",
      "Fold #5\n",
      "Epoch 00707: early stopping\n"
     ]
    }
   ],
   "source": [
    "# Cross-Validate\n",
    "kf = KFold(5)\n",
    "    \n",
    "oos_y = []\n",
    "oos_pred = []\n",
    "fold = 0\n",
    "\n",
    "for train, test in kf.split(x):\n",
    "    fold+=1\n",
    "    print(\"Fold #{}\".format(fold))\n",
    "        \n",
    "    x_train = x[train]\n",
    "    y_train = y[train]\n",
    "    x_test = x[test]\n",
    "    y_test = y[test]\n",
    "    \n",
    "    model = Sequential()\n",
    "    model.add(Dense(50, input_dim=x.shape[1], activation='relu')) # Hidden 1\n",
    "    model.add(Dense(25, activation='relu')) # Hidden 2\n",
    "    model.add(Dense(y.shape[1],activation='softmax')) # Output\n",
    "    model.compile(loss='categorical_crossentropy', optimizer='adam')\n",
    "    monitor = EarlyStopping(monitor='val_loss', min_delta=1e-3, patience=25, verbose=1, mode='auto')\n",
    "\n",
    "    model.fit(x,y,validation_data=(x_test,y_test),callbacks=[monitor],verbose=0,epochs=1000)\n",
    "    \n",
    "    pred = model.predict(x_test)\n",
    "    \n",
    "    y_test=np.argmax(y_test,axis=1)\n",
    "    oos_y.append(y_test)\n",
    "    \n",
    "    pred = np.argmax(pred,axis=1) # raw probabilities to chosen class (highest probability)\n",
    "    oos_pred.append(pred) \n",
    "    \n",
    "# Build the oos prediction list \n",
    "\n",
    "oos_y = np.concatenate(oos_y)\n",
    "oos_pred = np.concatenate(oos_pred)\n",
    "\n",
    "\n",
    "# Create the cross-validated prediction\n",
    "\n",
    "\n",
    "df['Actual Class']=oos_y\n",
    "df['Predicted Class']=oos_pred\n",
    "\n",
    "oosDF=df[['Actual Class','Predicted Class']].copy()\n",
    "\n",
    "# Save a copy \n",
    "oosDF.to_csv('Project.csv',index=False)"
   ]
  },
  {
   "cell_type": "markdown",
   "metadata": {},
   "source": [
    "## Evaluation Metric\n",
    "\n",
    "For evaluating the performance, we use **Classification Accuracy** as our metric.\n",
    "\n",
    "$ accuracy = \\frac{\\textit{#} \\ correct}{N} $\n",
    "Where $N$ is the size of the evaluted set (training or validation).\n",
    "\n",
    "I calculate the **Percentage Accuracy**."
   ]
  },
  {
   "cell_type": "code",
   "execution_count": 6,
   "metadata": {},
   "outputs": [
    {
     "name": "stdout",
     "output_type": "stream",
     "text": [
      "Final score (accuracy): 1.0\n"
     ]
    }
   ],
   "source": [
    "score = metrics.accuracy_score(oos_y, oos_pred)\n",
    "print(\"Final score (accuracy): {}\".format(score))"
   ]
  },
  {
   "cell_type": "markdown",
   "metadata": {},
   "source": [
    "## Graphic Evaluation\n",
    "\n",
    "I use **Confusion Matrix** for Graphic Evaluation."
   ]
  },
  {
   "cell_type": "code",
   "execution_count": 7,
   "metadata": {},
   "outputs": [
    {
     "name": "stdout",
     "output_type": "stream",
     "text": [
      "Confusion matrix, without normalization\n",
      "[[70  0  0  0  0  0]\n",
      " [ 0 76  0  0  0  0]\n",
      " [ 0  0 17  0  0  0]\n",
      " [ 0  0  0 13  0  0]\n",
      " [ 0  0  0  0  9  0]\n",
      " [ 0  0  0  0  0 29]]\n",
      "Normalized confusion matrix\n",
      "[[ 1.  0.  0.  0.  0.  0.]\n",
      " [ 0.  1.  0.  0.  0.  0.]\n",
      " [ 0.  0.  1.  0.  0.  0.]\n",
      " [ 0.  0.  0.  1.  0.  0.]\n",
      " [ 0.  0.  0.  0.  1.  0.]\n",
      " [ 0.  0.  0.  0.  0.  1.]]\n"
     ]
    },
    {
     "data": {
      "image/png": "[encoded data removed]",
      "text/plain": [
       "<matplotlib.figure.Figure at 0x1a1d28c470>"
      ]
     },
     "metadata": {},
     "output_type": "display_data"
    },
    {
     "data": {
      "image/png": "[encoded data removed]",
      "text/plain": [
       "<matplotlib.figure.Figure at 0x1a263149e8>"
      ]
     },
     "metadata": {},
     "output_type": "display_data"
    }
   ],
   "source": [
    "import numpy as np\n",
    "\n",
    "from sklearn import svm, datasets\n",
    "from sklearn.metrics import confusion_matrix\n",
    "import matplotlib.pyplot as plt\n",
    "from sklearn.metrics import roc_curve, auc\n",
    "\n",
    "# Plot a confusion matrix.\n",
    "# cm is the confusion matrix, names are the names of the classes.\n",
    "def plot_confusion_matrix(cm, names, title='Confusion matrix', cmap=plt.cm.Blues):\n",
    "    plt.imshow(cm, interpolation='nearest', cmap=cmap)\n",
    "    plt.title(title)\n",
    "    plt.colorbar()\n",
    "    tick_marks = np.arange(len(names))\n",
    "    plt.xticks(tick_marks, names, rotation=45)\n",
    "    plt.yticks(tick_marks, names)\n",
    "    plt.tight_layout()\n",
    "    plt.ylabel('True label')\n",
    "    plt.xlabel('Predicted label')\n",
    "\n",
    "# Compute confusion matrix\n",
    "cm = confusion_matrix(oos_y, oos_pred)\n",
    "np.set_printoptions(precision=2)\n",
    "print('Confusion matrix, without normalization')\n",
    "print(cm)\n",
    "plt.figure()\n",
    "plot_confusion_matrix(cm, species)\n",
    "\n",
    "# Normalize the confusion matrix by row (i.e by the number of samples\n",
    "# in each class)\n",
    "cm_normalized = cm.astype('float') / cm.sum(axis=1)[:, np.newaxis]\n",
    "print('Normalized confusion matrix')\n",
    "print(cm_normalized)\n",
    "plt.figure()\n",
    "plot_confusion_matrix(cm_normalized, species, title='Normalized confusion matrix')\n",
    "\n",
    "plt.show()"
   ]
  },
  {
   "cell_type": "markdown",
   "metadata": {},
   "source": [
    "## Final Comments\n",
    "\n",
    "I performed Classification using a neural network. I tried to classify the Type of Glass depending on the Chemical composition. I managed to achieve extremely good accuracy.\n",
    "\n",
    "This dataset was straightforward and easy to work with. The only confusion I had is deciding on the optimal value of hyperparameters(which I tried manually)."
   ]
  },
  {
   "cell_type": "code",
   "execution_count": null,
   "metadata": {
    "collapsed": true
   },
   "outputs": [],
   "source": []
  }
 ],
 "metadata": {
  "kernelspec": {
   "display_name": "Python 3",
   "language": "python",
   "name": "python3"
  },
  "language_info": {
   "codemirror_mode": {
    "name": "ipython",
    "version": 3
   },
   "file_extension": ".py",
   "mimetype": "text/x-python",
   "name": "python",
   "nbconvert_exporter": "python",
   "pygments_lexer": "ipython3",
   "version": "3.6.3"
  }
 },
 "nbformat": 4,
 "nbformat_minor": 2
}
